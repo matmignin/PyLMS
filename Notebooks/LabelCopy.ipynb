{
 "cells": [
  {
   "cell_type": "code",
   "execution_count": 1,
   "metadata": {},
   "outputs": [],
   "source": [
    "import re, pyperclip\n",
    "\n",
    "example= '''\n",
    " Metabolism Boosting Blend:\n",
    "Organic acai berry (Euterpe oleracea), organic acacia gum, organic Ceylon cinnamon bark, organic green tea (shoots and leaves)\n",
    "    2,500 mg\n",
    "†\n",
    " \n",
    " \n",
    "Super Antioxidant Immune Blend:\n",
    "Organic beet root, organic blueberry, organic raspberry, organic banana, organic apple, organic strawberry, organic cranberry, organic pomegranate juice, organic goji (Lycium barbarum), organic grape, organic papaya, organic cherry, organic bilberry, organic pineapple, organic maqui\n",
    "2,000 mg\n",
    "                               \n",
    "†\n",
    " \n",
    " \n",
    "Endurance Blend:\n",
    "Organic Cordyceps militaris (Cordyceps), Organic Ganoderma lucidum (Reishi), Organic Pleurotus eryngii (King Trumpet), Organic Lentinula edodes (Shiitake), Organic Hericium erinaceus (Lion’s Mane), and Organic Trametes versicolor (Turkey Tail) (PeakO2®)\n",
    "1,000 mg\n",
    "†\n",
    " \n",
    "'''"
   ]
  },
  {
   "cell_type": "code",
   "execution_count": 2,
   "metadata": {},
   "outputs": [
    {
     "name": "stdout",
     "output_type": "stream",
     "text": [
      "\n",
      " Metabolism Boosting Blend:\tOrganic acai berry (Euterpe oleracea), organic acacia gum, organic Ceylon cinnamon bark, organic green tea (shoots and leaves)   2,500 mg\t†\n",
      " \n",
      "Super Antioxidant Immune Blend:\n",
      "Organic beet root, organic blueberry, organic raspberry, organic banana, organic apple, organic strawberry, organic cranberry, organic pomegranate juice, organic goji (Lycium barbarum), organic grape, organic papaya, organic cherry, organic bilberry, organic pineapple, organic maqui\t2,000 mg                              \t†\n",
      " \n",
      "Endurance Blend:\n",
      "Organic Cordyceps militaris (Cordyceps), Organic Ganoderma lucidum (Reishi), Organic Pleurotus eryngii (King Trumpet), Organic Lentinula edodes (Shiitake), Organic Hericium erinaceus (Lion’s Mane), and Organic Trametes versicolor (Turkey Tail) (PeakO2®)\t1,000 mg\n",
      " \n",
      "\n"
     ]
    }
   ],
   "source": [
    "regex_excel_coa = r\"^(\\s|\\t)|\\s+\\t.*\\t.*\\t.+|\\d+.\\d+-\\d+.\\d+.\\w+\\s\\d+.\\d+.\\w+\"\n",
    "# regex_label_copy =r\"(\\d+%\\*?|\\s|†)\\n\"\n",
    "regex_label_copy =r\"(.*)\\n(.*)\\n(\\d+%\\*?|\\*|\\s|†)\"\n",
    "regex_label_copy_replace =r\"\\1\\t\\2\"\n",
    "regex_blend = r\":\\s+?(\\d+.\\d+.\\w+)\\n(.*)\"\n",
    "regex_blend_replace = r\":{enter}\\2 \\t\\1\"\n",
    "regex_lone_result = r\"\\n^(\\d+.\\d+.*\\n)?\"\n",
    "regex_lone_result_replace = r\"\\t\\1\"\n",
    "clipboard = pyperclip.paste()\n",
    "\n",
    "result = re.sub(regex_label_copy, regex_label_copy_replace, example, 0, re.MULTILINE | re.IGNORECASE)\n",
    "result2 = re.sub(regex_blend, regex_blend_replace, result, 0, re.MULTILINE | re.IGNORECASE)\n",
    "result3 = re.sub(\"\\n.* Daily value not established\\.*\", \"\", result2, 0, re.MULTILINE | re.IGNORECASE)\n",
    "# result3 = re.sub(regex_label_copy, regex_label_copy_replace, result2, 0, re.MULTILINE | re.IGNORECASE)\n",
    "print(result3)\n",
    "pyperclip.copy(result3)\n",
    "\n"
   ]
  }
 ],
 "metadata": {
  "interpreter": {
   "hash": "31f2aee4e71d21fbe5cf8b01ff0e069b9275f58929596ceb00d14d90e3e16cd6"
  },
  "kernelspec": {
   "display_name": "Python 3.8.9 64-bit",
   "language": "python",
   "name": "python3"
  },
  "language_info": {
   "codemirror_mode": {
    "name": "ipython",
    "version": 3
   },
   "file_extension": ".py",
   "mimetype": "text/x-python",
   "name": "python",
   "nbconvert_exporter": "python",
   "pygments_lexer": "ipython3",
   "version": "3.8.9"
  },
  "orig_nbformat": 4
 },
 "nbformat": 4,
 "nbformat_minor": 2
}
