{
 "cells": [
  {
   "cell_type": "code",
   "execution_count": 1,
   "metadata": {},
   "outputs": [
    {
     "ename": "FileNotFoundError",
     "evalue": "[Errno 2] No such file or directory: 'Users/matbook/Desktop/PyLMS/codes.json'",
     "output_type": "error",
     "traceback": [
      "\u001b[0;31m---------------------------------------------------------------------------\u001b[0m",
      "\u001b[0;31mFileNotFoundError\u001b[0m                         Traceback (most recent call last)",
      "\u001b[1;32m/Users/matbook/Desktop/PyLMS/BTTscripts/read_codes_notebook.ipynb Cell 1'\u001b[0m in \u001b[0;36m<cell line: 3>\u001b[0;34m()\u001b[0m\n\u001b[1;32m      <a href='vscode-notebook-cell:/Users/matbook/Desktop/PyLMS/BTTscripts/read_codes_notebook.ipynb#ch0000000?line=0'>1</a>\u001b[0m \u001b[39mimport\u001b[39;00m \u001b[39mjson\u001b[39;00m\n\u001b[0;32m----> <a href='vscode-notebook-cell:/Users/matbook/Desktop/PyLMS/BTTscripts/read_codes_notebook.ipynb#ch0000000?line=2'>3</a>\u001b[0m \u001b[39mwith\u001b[39;00m \u001b[39mopen\u001b[39;49m(\u001b[39m'\u001b[39;49m\u001b[39mUsers/matbook/Desktop/PyLMS/codes.json\u001b[39;49m\u001b[39m'\u001b[39;49m) \u001b[39mas\u001b[39;00m f:\n\u001b[1;32m      <a href='vscode-notebook-cell:/Users/matbook/Desktop/PyLMS/BTTscripts/read_codes_notebook.ipynb#ch0000000?line=3'>4</a>\u001b[0m \tcodes \u001b[39m=\u001b[39m json\u001b[39m.\u001b[39mload(f)[\u001b[39m'\u001b[39m\u001b[39mcodes\u001b[39m\u001b[39m'\u001b[39m][\u001b[39m0\u001b[39m]\n\u001b[1;32m      <a href='vscode-notebook-cell:/Users/matbook/Desktop/PyLMS/BTTscripts/read_codes_notebook.ipynb#ch0000000?line=5'>6</a>\u001b[0m product \u001b[39m=\u001b[39m codes\u001b[39m.\u001b[39mget(\u001b[39m'\u001b[39m\u001b[39mproduct\u001b[39m\u001b[39m'\u001b[39m)\n",
      "\u001b[0;31mFileNotFoundError\u001b[0m: [Errno 2] No such file or directory: 'Users/matbook/Desktop/PyLMS/codes.json'"
     ]
    }
   ],
   "source": [
    "import json\n",
    "\n",
    "with open('Users/matbook/Desktop/PyLMS/codes.json') as f:\n",
    "\tcodes = json.load(f)['codes'][0]\n",
    "\n",
    "product = codes.get('product')\n",
    "batch = codes.get('batch')\n",
    "lot = codes.get('lot')\n",
    "coated = codes.get('coated')\n",
    "print(product)\n",
    "print(batch)\n",
    "print(lot)\n",
    "print(coated)\n",
    "\n"
   ]
  }
 ],
 "metadata": {
  "interpreter": {
   "hash": "661f6132d56bcd314d100f23867731da0eebf172d6d04589ba84b5fa398414f4"
  },
  "kernelspec": {
   "display_name": "Python 3.8.3 64-bit ('VQenv')",
   "language": "python",
   "name": "python3"
  },
  "language_info": {
   "codemirror_mode": {
    "name": "ipython",
    "version": 3
   },
   "file_extension": ".py",
   "mimetype": "text/x-python",
   "name": "python",
   "nbconvert_exporter": "python",
   "pygments_lexer": "ipython3",
   "version": "3.8.3"
  },
  "orig_nbformat": 4
 },
 "nbformat": 4,
 "nbformat_minor": 2
}
