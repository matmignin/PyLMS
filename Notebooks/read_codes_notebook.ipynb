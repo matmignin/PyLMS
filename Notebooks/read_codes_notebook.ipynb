{
 "cells": [
  {
   "cell_type": "code",
   "execution_count": 2,
   "metadata": {},
   "outputs": [
    {
     "name": "stdout",
     "output_type": "stream",
     "text": [
      "['K277 111-2234 9087A2K277 111-2234 9087A2']\n"
     ]
    }
   ],
   "source": [
    "import json, os\n",
    "\n",
    "# with open(os.path.expanduser('~/PyLMS/codes.json')) as f:\n",
    "\t# codes = json.load(f)\n",
    "\n",
    "with open(os.path.expanduser(\"/Volumes/~mmignin/RemoteVQ/Code.txt\")) as f:\n",
    "\tcode = f.readlines()\n",
    "\n",
    "\t\n",
    "# product = codes.get('product')\n",
    "# batch = codes.get('batch')\n",
    "# lot = codes.get('lot')\n",
    "# coated = codes.get('coated')\n",
    "# print(product)\n",
    "# print(batch)\n",
    "# print(lot)\n",
    "# print(coated)\n",
    "print(code)\n",
    "\n"
   ]
  }
 ],
 "metadata": {
  "interpreter": {
   "hash": "661f6132d56bcd314d100f23867731da0eebf172d6d04589ba84b5fa398414f4"
  },
  "kernelspec": {
   "display_name": "Python 3.8.3 64-bit ('VQenv')",
   "language": "python",
   "name": "python3"
  },
  "language_info": {
   "codemirror_mode": {
    "name": "ipython",
    "version": 3
   },
   "file_extension": ".py",
   "mimetype": "text/x-python",
   "name": "python",
   "nbconvert_exporter": "python",
   "pygments_lexer": "ipython3",
   "version": "3.8.3"
  },
  "orig_nbformat": 4
 },
 "nbformat": 4,
 "nbformat_minor": 2
}
