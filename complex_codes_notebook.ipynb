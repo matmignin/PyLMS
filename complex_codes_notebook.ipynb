{
 "cells": [
  {
   "cell_type": "code",
   "execution_count": 5,
   "metadata": {},
   "outputs": [
    {
     "name": "stdout",
     "output_type": "stream",
     "text": [
      "[{'product': 'K277', 'batches': [{'batch': '111-0011', 'lot': ['1111H1', '1111H1A']}]}, {'product': 'K303', 'batches': [{'batch': '333-0033', 'lot': ['3338H8', '3338J2B']}]}, {'product': 'K444', 'batches': [{'batch': '111-2222', 'coated': '101-1001', 'lot': ['4658H8', '4658H2B']}, {'batch': '777-2277', 'coated': '202-1001', 'lot': ['7777H7', '7777H7A']}]}]\n",
      "--- product --- \n",
      "K277\n",
      "--- product1 --- \n",
      "K303\n",
      "--- batch --- \n",
      "{'batch': '111-0011', 'lot': ['1111H1', '1111H1A']}\n",
      "--- batch1 --- \n",
      "[{'batch': '111-0011', 'lot': ['1111H1', '1111H1A']}]\n",
      "--- lot --- \n",
      "1111H1\n",
      "--- lot01 --- \n",
      "1111H1A\n"
     ]
    }
   ],
   "source": [
    "import json\n",
    "\n",
    "# with open('/Volumes/SHARED/PyLMS/codes.json') as f:\n",
    "f = open('/Volumes/SHARED/PyLMS/codes.json')\n",
    "Products = json.load(f)['products']\n",
    "\n",
    "product = Products[0].get('product')\n",
    "product1 = Products[1].get('product')\n",
    "batch = Products[0]['batches'][0]\n",
    "batch1 = Products[0]['batches'] \n",
    "lot = Products[0]['batches'][0].get('lot')[0]\n",
    "lot01 = Products[0]['batches'][0].get('lot')[1]\n",
    "# lot11 = Products[0]['batches'][1].get('lot')[0]\n",
    "# coated = Products[0]['batches'][0].get('coated')\n",
    "# coated1 = Products[0]['batches'][1].get('coated')\n",
    "print(\"--- product --- \")\n",
    "print(product)\n",
    "print(\"--- product1 --- \")\n",
    "print(product1)\n",
    "print(\"--- batch --- \")\n",
    "print(batch)\n",
    "print(\"--- batch1 --- \")\n",
    "print(batch1)\n",
    "print(\"--- lot --- \")\n",
    "print(lot)\n",
    "print(\"--- lot01 --- \")\n",
    "print(lot01)\n",
    "# print(coated)\n",
    "\n"
   ]
  }
 ],
 "metadata": {
  "interpreter": {
   "hash": "661f6132d56bcd314d100f23867731da0eebf172d6d04589ba84b5fa398414f4"
  },
  "kernelspec": {
   "display_name": "Python 3.8.3 64-bit ('VQenv')",
   "language": "python",
   "name": "python3"
  },
  "language_info": {
   "codemirror_mode": {
    "name": "ipython",
    "version": 3
   },
   "file_extension": ".py",
   "mimetype": "text/x-python",
   "name": "python",
   "nbconvert_exporter": "python",
   "pygments_lexer": "ipython3",
   "version": "3.8.3"
  },
  "orig_nbformat": 4
 },
 "nbformat": 4,
 "nbformat_minor": 2
}
