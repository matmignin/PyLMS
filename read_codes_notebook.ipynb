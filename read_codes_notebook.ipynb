{
 "cells": [
  {
   "cell_type": "code",
   "execution_count": 9,
   "metadata": {},
   "outputs": [
    {
     "name": "stdout",
     "output_type": "stream",
     "text": [
      "K277\n",
      "111-0011\n",
      "1111H1\n",
      "None\n"
     ]
    }
   ],
   "source": [
    "import json\n",
    "\n",
    "with open('codes.json') as f:\n",
    "\tcodes = json.load(f)['codes'][0]\n",
    "\n",
    "product = codes.get('product')\n",
    "batch = codes.get('batch')\n",
    "lot = codes.get('lot')\n",
    "coated = codes.get('coated')\n",
    "print(product)\n",
    "print(batch)\n",
    "print(lot)\n",
    "print(coated)\n",
    "\n"
   ]
  }
 ],
 "metadata": {
  "interpreter": {
   "hash": "661f6132d56bcd314d100f23867731da0eebf172d6d04589ba84b5fa398414f4"
  },
  "kernelspec": {
   "display_name": "Python 3.8.3 64-bit ('VQenv')",
   "language": "python",
   "name": "python3"
  },
  "language_info": {
   "codemirror_mode": {
    "name": "ipython",
    "version": 3
   },
   "file_extension": ".py",
   "mimetype": "text/x-python",
   "name": "python",
   "nbconvert_exporter": "python",
   "pygments_lexer": "ipython3",
   "version": "3.8.3"
  },
  "orig_nbformat": 4
 },
 "nbformat": 4,
 "nbformat_minor": 2
}
