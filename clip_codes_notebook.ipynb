{
 "cells": [
  {
   "cell_type": "code",
   "execution_count": 5,
   "metadata": {},
   "outputs": [
    {
     "name": "stdout",
     "output_type": "stream",
     "text": [
      "product:  K445\n",
      "batch:  666-6666\n"
     ]
    }
   ],
   "source": [
    "\n",
    "import re, pyperclip, os, json\n",
    "\n",
    "\n",
    "clipboard = pyperclip.paste()\n",
    "\n",
    "\n",
    "pattern_product = re.compile(r'(?<=\\w{3})?(?P<product>[abdefghijkl]\\d{3})(?=\\w{4})?',re.IGNORECASE|re.DOTALL)\n",
    "pattern_batch = re.compile(r'[^(ct\\#?)](?P<batch>\\d{3}-\\d{4}\\b)',re.IGNORECASE|re.DOTALL)\n",
    "pattern_lot = re.compile(r'(?P<lot>\\b\\d{4}\\w\\d\\w?|\\bBulk\\b|G\\d{7}\\w?\\b|VC\\d{6}[ABCDEFGH]?|V[A-Z]\\d{5}[A-Z]\\d?|\\d{5}\\[A-Z]{3}\\d)',re.IGNORECASE|re.DOTALL)\n",
    "pattern_coated = re.compile(r'(?:\\d{4}\\w\\d\\w?.|\\bBulk\\b|G\\d{7}\\w?\\b|VC\\d{6}[ABCDEFGH]?|V[A-Z]\\d{5}[A-Z]\\d?|\\d{5}\\[A-Z]{3}\\d\\s|coated:?\\s?|ct\\#?\\s?)(?P<coated>\\d{3}-\\d{4})',re.IGNORECASE|re.DOTALL)\n",
    "\n",
    "####for clipping line by line\n",
    "# for line in clipboard.splitlines():\n",
    "# \tmatch_product = pattern_product.search(line)\n",
    "# \tif match_product:\n",
    "# \t\tprint('product: ', match_product[0].upper())\n",
    "# \tmatch_batch = pattern_batch.search(line)\n",
    "# \tif match_batch:\n",
    "# \t\tprint('batch: ', match_batch[0])\n",
    "# \tmatch_lot = pattern_lot.search(line)\n",
    "# \tif match_lot:\n",
    "# \t\tprint('lot: ', match_lot[0].upper())\n",
    "# \tmatch_coated = pattern_coated.search(line)\n",
    "# \tif match_coated:\n",
    "# \t\tprint('coated: ', match_coated[0])\n",
    "# \tprint()\n",
    "\n",
    "product = pattern_product.search(clipboard)\n",
    "if product:\n",
    "\tprint('product: ', product.group('product').upper())\n",
    "batch = pattern_batch.search(clipboard)\n",
    "if batch:\n",
    "\tprint('batch: ', batch.group('batch'))\n",
    "lot = pattern_lot.search(clipboard)\n",
    "if lot:\n",
    "\tprint('lot: ', lot.group('lot').upper())\n",
    "coated = pattern_coated.search(clipboard)\n",
    "if coated:\n",
    "\tprint('coated: ', coated.group('coated'))\n",
    "\n"
   ]
  },
  {
   "cell_type": "markdown",
   "metadata": {},
   "source": [
    "Regex each line for a single code"
   ]
  },
  {
   "cell_type": "code",
   "execution_count": 7,
   "metadata": {},
   "outputs": [
    {
     "name": "stdout",
     "output_type": "stream",
     "text": [
      "product:  K445\n",
      "batch:  666-6666\n"
     ]
    },
    {
     "ename": "TypeError",
     "evalue": "'NoneType' object is not subscriptable",
     "output_type": "error",
     "traceback": [
      "\u001b[0;31m---------------------------------------------------------------------------\u001b[0m",
      "\u001b[0;31mTypeError\u001b[0m                                 Traceback (most recent call last)",
      "\u001b[1;32m/Users/matbook/Desktop/PyLMS/clip_codes_notebook.ipynb Cell 3'\u001b[0m in \u001b[0;36m<cell line: 28>\u001b[0;34m()\u001b[0m\n\u001b[1;32m     <a href='vscode-notebook-cell:/Users/matbook/Desktop/PyLMS/clip_codes_notebook.ipynb#ch0000002?line=25'>26</a>\u001b[0m \t\u001b[39mprint\u001b[39m(\u001b[39m'\u001b[39m\u001b[39mbatch: \u001b[39m\u001b[39m'\u001b[39m, match_batch\u001b[39m.\u001b[39mgroup(\u001b[39m'\u001b[39m\u001b[39mbatch\u001b[39m\u001b[39m'\u001b[39m))\n\u001b[1;32m     <a href='vscode-notebook-cell:/Users/matbook/Desktop/PyLMS/clip_codes_notebook.ipynb#ch0000002?line=26'>27</a>\u001b[0m match_lot \u001b[39m=\u001b[39m pattern_lot\u001b[39m.\u001b[39msearch(clipboard)\n\u001b[0;32m---> <a href='vscode-notebook-cell:/Users/matbook/Desktop/PyLMS/clip_codes_notebook.ipynb#ch0000002?line=27'>28</a>\u001b[0m \u001b[39mif\u001b[39;00m match_lot[\u001b[39m0\u001b[39;49m]:\n\u001b[1;32m     <a href='vscode-notebook-cell:/Users/matbook/Desktop/PyLMS/clip_codes_notebook.ipynb#ch0000002?line=28'>29</a>\u001b[0m \t\u001b[39mprint\u001b[39m(\u001b[39m'\u001b[39m\u001b[39mlot: \u001b[39m\u001b[39m'\u001b[39m, match_lot\u001b[39m.\u001b[39mgroup(\u001b[39m'\u001b[39m\u001b[39mlot\u001b[39m\u001b[39m'\u001b[39m)\u001b[39m.\u001b[39mupper())\n\u001b[1;32m     <a href='vscode-notebook-cell:/Users/matbook/Desktop/PyLMS/clip_codes_notebook.ipynb#ch0000002?line=29'>30</a>\u001b[0m match_coated \u001b[39m=\u001b[39m pattern_coated\u001b[39m.\u001b[39msearch(clipboard)\n",
      "\u001b[0;31mTypeError\u001b[0m: 'NoneType' object is not subscriptable"
     ]
    }
   ],
   "source": [
    "\n",
    "pattern_product = re.compile(r'(?<=\\w{3})?(?P<product>[abdefghijkl]\\d{3})(?=\\w{4})?',re.IGNORECASE|re.DOTALL)\n",
    "pattern_batch = re.compile(r'[^(ct\\#?)](?P<batch>\\d{3}-\\d{4}\\b)',re.IGNORECASE|re.DOTALL)\n",
    "pattern_lot = re.compile(r'(?P<lot>\\b\\d{4}\\w\\d\\w?|\\bBulk\\b|G\\d{7}\\w?\\b|VC\\d{6}[ABCDEFGH]?|V[A-Z]\\d{5}[A-Z]\\d?|\\d{5}\\[A-Z]{3}\\d)',re.IGNORECASE|re.DOTALL)\n",
    "pattern_coated = re.compile(r'(?:\\d{4}\\w\\d\\w?.|\\bBulk\\b|G\\d{7}\\w?\\b|VC\\d{6}[ABCDEFGH]?|V[A-Z]\\d{5}[A-Z]\\d?|\\d{5}\\[A-Z]{3}\\d\\s|coated:?\\s?|ct\\#?\\s?)(?P<coated>\\d{3}-\\d{4})',re.IGNORECASE|re.DOTALL)\n",
    "\n",
    "# for line in clipboard.splitlines():\n",
    "# \tmatch_product = pattern_product.search(line)\n",
    "# \tif match_product:\n",
    "# \t\tprint('product: ', match_product[0].upper())\n",
    "# \tmatch_batch = pattern_batch.search(line)\n",
    "# \tif match_batch:\n",
    "# \t\tprint('batch: ', match_batch[0])\n",
    "# \tmatch_lot = pattern_lot.search(line)\n",
    "# \tif match_lot:\n",
    "# \t\tprint('lot: ', match_lot[0].upper())\n",
    "# \tmatch_coated = pattern_coated.search(line)\n",
    "# \tif match_coated:\n",
    "# \t\tprint('coated: ', match_coated[0])\n",
    "# \tprint()\n",
    "\t\n",
    "match_product = pattern_product.search(clipboard)\n",
    "if match_product[0]:\n",
    "\tprint('product: ', match_product.group('product').upper())\n",
    "match_batch = pattern_batch.search(clipboard)\n",
    "if match_batch[0]:\n",
    "\tprint('batch: ', match_batch.group('batch'))\n",
    "match_lot = pattern_lot.search(clipboard)\n",
    "if match_lot[0]:\n",
    "\tprint('lot: ', match_lot.group('lot').upper())\n",
    "match_coated = pattern_coated.search(clipboard)\n",
    "if match_coated:\n",
    "\tprint('coated: ', match_coated.group('coated'))\n"
   ]
  },
  {
   "cell_type": "code",
   "execution_count": 77,
   "metadata": {},
   "outputs": [],
   "source": [
    "def json_add_code(new_product=None,new_batch=None,new_lot=None, new_coated=None, filename='/Users/matbook/Desktop/PyLMS/codes.json'):\n",
    "\twith open(filename,'r+') as f:\n",
    "\t\tdata = json.load(f)\n",
    "\t\tif not new_product and not new_batch and not new_lot and not new_coated:\n",
    "\t\t\treturn\n",
    "\t\tif new_product:\n",
    "\t\t\tdata['product'] = new_product\n",
    "\t\t# if new_batch:\n",
    "\t\telif new_lot:\n",
    "\t\t\tdata['lot'] = new_lot\n",
    "\t\tif new_batch and not new_lot:\n",
    "\t\t\tdata['batch'] = new_batch\n",
    "\t\t\tdata['lot'] = None\n",
    "\t\telif new_batch and  new_lot:\n",
    "\t\t\tdata['batch'] = new_batch\n",
    "\t\t\tdata['lot'] = new_lot\n",
    "\t\tif new_batch and not new_coated:\n",
    "\t\t\tdata['batch'] = new_batch\n",
    "\t\t\tdata['coated'] = None\n",
    "\t\telif new_batch and  new_coated:\n",
    "\t\t\tdata['batch'] = new_batch\n",
    "\t\t\tdata['coated'] = new_coated\n",
    "\t\tf.seek(0)\n",
    "\n",
    "json.dump(data, f, indent=4)\n",
    "\n",
    "json_add_code('K333','522-8888')"
   ]
  },
  {
   "cell_type": "code",
   "execution_count": 78,
   "metadata": {},
   "outputs": [
    {
     "ename": "AttributeError",
     "evalue": "'NoneType' object has no attribute 'group'",
     "output_type": "error",
     "traceback": [
      "\u001b[0;31m---------------------------------------------------------------------------\u001b[0m",
      "\u001b[0;31mAttributeError\u001b[0m                            Traceback (most recent call last)",
      "\u001b[1;32m/Users/matbook/Desktop/PyLMS/clip_codes_notebook.ipynb Cell 5'\u001b[0m in \u001b[0;36m<cell line: 8>\u001b[0;34m()\u001b[0m\n\u001b[1;32m      <a href='vscode-notebook-cell:/Users/matbook/Desktop/PyLMS/clip_codes_notebook.ipynb#ch0000003?line=7'>8</a>\u001b[0m \u001b[39mfor\u001b[39;00m line \u001b[39min\u001b[39;00m clipboard\u001b[39m.\u001b[39msplitlines():\n\u001b[1;32m      <a href='vscode-notebook-cell:/Users/matbook/Desktop/PyLMS/clip_codes_notebook.ipynb#ch0000003?line=8'>9</a>\u001b[0m \u001b[39m# match = find_all.search(line)\u001b[39;00m\n\u001b[1;32m     <a href='vscode-notebook-cell:/Users/matbook/Desktop/PyLMS/clip_codes_notebook.ipynb#ch0000003?line=9'>10</a>\u001b[0m \tmatch \u001b[39m=\u001b[39m find_all\u001b[39m.\u001b[39msearch(line)\n\u001b[0;32m---> <a href='vscode-notebook-cell:/Users/matbook/Desktop/PyLMS/clip_codes_notebook.ipynb#ch0000003?line=10'>11</a>\u001b[0m \t\u001b[39mprint\u001b[39m(match\u001b[39m.\u001b[39;49mgroup(\u001b[39m'\u001b[39m\u001b[39mproduct\u001b[39m\u001b[39m'\u001b[39m))\n\u001b[1;32m     <a href='vscode-notebook-cell:/Users/matbook/Desktop/PyLMS/clip_codes_notebook.ipynb#ch0000003?line=11'>12</a>\u001b[0m \t\u001b[39mprint\u001b[39m(match\u001b[39m.\u001b[39mgroup(\u001b[39m'\u001b[39m\u001b[39mbatch\u001b[39m\u001b[39m'\u001b[39m))\n\u001b[1;32m     <a href='vscode-notebook-cell:/Users/matbook/Desktop/PyLMS/clip_codes_notebook.ipynb#ch0000003?line=12'>13</a>\u001b[0m \t\u001b[39mprint\u001b[39m(match\u001b[39m.\u001b[39mgroup(\u001b[39m'\u001b[39m\u001b[39mlot\u001b[39m\u001b[39m'\u001b[39m))\n",
      "\u001b[0;31mAttributeError\u001b[0m: 'NoneType' object has no attribute 'group'"
     ]
    }
   ],
   "source": [
    "find_all = re.compile(r'''(\n",
    "\t(?P<product>[abdefghijkl]\\d{3}\\b).?\n",
    "\t(?P<batch>[^(ct\\#?)]\\d{3}-\\d{4}\\b).?\n",
    "\t(?P<lot>\\d{4}\\w\\d\\w?|\\bBulk\\b|G\\d{7}\\w?\\b|VC\\d{6}[ABCDEFGH]?|V[A-Z]\\d{5}[A-Z]\\d?|\\d{5}\\[A-Z]{3}\\d).?\n",
    "\t(coated: |ct\\#?|coated\\s?)?(?P<coated>\\d{3}-\\d{4})?  # Coated\n",
    "\t)''',re.VERBOSE|re.IGNORECASE)\n",
    "\n",
    "for line in clipboard.splitlines():\n",
    "# match = find_all.search(line)\n",
    "\tmatch = find_all.search(line)\n",
    "\tprint(match.group('product'))\n",
    "\tprint(match.group('batch'))\n",
    "\tprint(match.group('lot'))\n",
    "\tprint(match.group('coated'))"
   ]
  },
  {
   "cell_type": "code",
   "execution_count": null,
   "metadata": {},
   "outputs": [
    {
     "name": "stdout",
     "output_type": "stream",
     "text": [
      "j984 111-0330 1111A1\n",
      "J550 111-0331 1111A1B ct#222-2222\n"
     ]
    }
   ],
   "source": [
    "clipboard2 = '''j984 111-0330 1111A1\n",
    "J550 111-0331 1111A1B ct#222-2222'''\n",
    "\n",
    "find_all2 = re.compile(r'''\n",
    "\tr' (?P<product>[abdefghijkl]\\d{3}\\b)*?'\n",
    "\tr' (?P<batch>[^(ct\\#?)]\\d{3}-\\d{4}\\b)*?'\n",
    "\tr' (?P<lot>\\d{4}\\w\\d\\w?|\\bBulk\\b|G\\d{7}\\w?\\b|VC\\d{6}[ABCDEFGH]?|V[A-Z]\\d{5}[A-Z]\\d?|\\d{5}\\[A-Z]{3}\\d)*?'\n",
    "\tr' (\\d{4}\\w\\d\\w?.|\\bBulk\\b|G\\d{7}\\w?\\b|VC\\d{6}[ABCDEFGH]?|V[A-Z]\\d{5}[A-Z]\\d?|\\d{5}\\[A-Z]{3}\\d\\s|coated: |ct\\#?|ct\\s?|coated\\s?)?(?P<coated>\\d{3}-\\d{4})*?'\n",
    "\tr''',re.IGNORECASE|re.DOTALL)\n",
    "\n",
    "for line in clipboard2.splitlines():\n",
    "\tmatch2 = find_all.match(line)[0]\n",
    "\t# print(match2.group('product'))\n",
    "\t# print(match2.group('batch'))\n",
    "\t# print(match2.group('lot'))\n",
    "\t# print(match2.group('coated'))\n",
    "\tprint(match2)"
   ]
  }
 ],
 "metadata": {
  "interpreter": {
   "hash": "661f6132d56bcd314d100f23867731da0eebf172d6d04589ba84b5fa398414f4"
  },
  "kernelspec": {
   "display_name": "Python 3.8.3 64-bit ('VQenv')",
   "language": "python",
   "name": "python3"
  },
  "language_info": {
   "codemirror_mode": {
    "name": "ipython",
    "version": 3
   },
   "file_extension": ".py",
   "mimetype": "text/x-python",
   "name": "python",
   "nbconvert_exporter": "python",
   "pygments_lexer": "ipython3",
   "version": "3.8.3"
  },
  "orig_nbformat": 4
 },
 "nbformat": 4,
 "nbformat_minor": 2
}
