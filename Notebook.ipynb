{
 "cells": [
  {
   "cell_type": "markdown",
   "metadata": {},
   "source": [
    "| Reading 1st item of JSON object "
   ]
  },
  {
   "cell_type": "code",
   "execution_count": 7,
   "metadata": {},
   "outputs": [
    {
     "name": "stdout",
     "output_type": "stream",
     "text": [
      "K277\n",
      "111-0011\n",
      "1111H1\n",
      "None\n"
     ]
    }
   ],
   "source": [
    "import json\n",
    "\n",
    "# with open('/Volumes/SHARED/PyLMS/codes.json') as f:\n",
    "# f = open('/Volumes/SHARED/PyLMS/codes.json')\n",
    "with open('/Volumes/SHARED/PyLMS/codes.json') as f:\n",
    "\tcode = json.load(f)['products'][0]\n",
    "product = code.get('product')\n",
    "batches = code['batches']\n",
    "batch = code['batches'][0].get('batch')\n",
    "lot = code['batches'][0].get('lot')[0]\n",
    "coated = code['batches'][0].get('coated')\n",
    "\n",
    "\n",
    "try:\n",
    "\t# print(product['batches'][0]['batch'] + \" \" + product['batches'][0]['lot'][0])\n",
    "\n",
    "\tprint(product)\n",
    "\tprint(batch)\n",
    "\tprint(lot)\n",
    "\tprint(coated)\n",
    "except:\n",
    "\tprint('')\n"
   ]
  },
  {
   "cell_type": "markdown",
   "metadata": {},
   "source": [
    "| Change values with for loop"
   ]
  },
  {
   "cell_type": "code",
   "execution_count": 11,
   "metadata": {},
   "outputs": [
    {
     "ename": "AttributeError",
     "evalue": "'str' object has no attribute 'append'",
     "output_type": "error",
     "traceback": [
      "\u001b[0;31m---------------------------------------------------------------------------\u001b[0m",
      "\u001b[0;31mAttributeError\u001b[0m                            Traceback (most recent call last)",
      "\u001b[0;32m/var/folders/9n/8t_j821j6sjbhfq1kyv0_g180000gp/T/ipykernel_61685/4248169598.py\u001b[0m in \u001b[0;36m<module>\u001b[0;34m\u001b[0m\n\u001b[1;32m      9\u001b[0m                 \u001b[0;32mwith\u001b[0m \u001b[0mopen\u001b[0m\u001b[0;34m(\u001b[0m\u001b[0;34m'/Volumes/SHARED/PyLMS/codes.json'\u001b[0m\u001b[0;34m,\u001b[0m\u001b[0;34m'r+'\u001b[0m\u001b[0;34m)\u001b[0m \u001b[0;32mas\u001b[0m \u001b[0mf\u001b[0m\u001b[0;34m:\u001b[0m\u001b[0;34m\u001b[0m\u001b[0;34m\u001b[0m\u001b[0m\n\u001b[1;32m     10\u001b[0m                         \u001b[0mjson\u001b[0m\u001b[0;34m.\u001b[0m\u001b[0mload\u001b[0m\u001b[0;34m(\u001b[0m\u001b[0mf\u001b[0m\u001b[0;34m)\u001b[0m\u001b[0;34m\u001b[0m\u001b[0;34m\u001b[0m\u001b[0m\n\u001b[0;32m---> 11\u001b[0;31m                         \u001b[0mitem\u001b[0m\u001b[0;34m[\u001b[0m\u001b[0;34m'lot'\u001b[0m\u001b[0;34m]\u001b[0m\u001b[0;34m.\u001b[0m\u001b[0mappend\u001b[0m\u001b[0;34m(\u001b[0m\u001b[0;34m'2222B2'\u001b[0m\u001b[0;34m)\u001b[0m\u001b[0;34m\u001b[0m\u001b[0;34m\u001b[0m\u001b[0m\n\u001b[0m\u001b[1;32m     12\u001b[0m                 \u001b[0;31m# item['lot'] = '2222B2'\u001b[0m\u001b[0;34m\u001b[0m\u001b[0;34m\u001b[0m\u001b[0;34m\u001b[0m\u001b[0m\n\u001b[1;32m     13\u001b[0m \u001b[0;34m\u001b[0m\u001b[0m\n",
      "\u001b[0;31mAttributeError\u001b[0m: 'str' object has no attribute 'append'"
     ]
    }
   ],
   "source": [
    "def json_add_lot(new_lot,x=0,y=0, filename='/Volumes/SHARED/PyLMS/codes.json'):\n",
    "\t\tdata = json.load(f)\n",
    "\t\tdata['products'][x]['batches'][y]['lot'].append(new_lot)\n",
    "\t\tf.seek(0)\n",
    "\t\tjson.dump(data, f, indent=4)\n",
    "\n",
    "with open('/Volumes/SHARED/PyLMS/codes.json','r+') as f:\n",
    "\tdata = json.load(f) \n",
    "for item in batches:\n",
    "\tif item.get('batch') == \"111-0011\" :\n",
    "\t\t\titem['lot'].append('2222B2')\n",
    "\t\t# item['lot'] = '2222B2'\n",
    "\n"
   ]
  }
 ],
 "metadata": {
  "interpreter": {
   "hash": "91c00faa3e693428e5f58dcdc2f979612bb3fb5b2201751ba8f38e1394b68ca1"
  },
  "kernelspec": {
   "display_name": "Python 3.7.3 64-bit ('3.7.3')",
   "language": "python",
   "name": "python3"
  },
  "language_info": {
   "codemirror_mode": {
    "name": "ipython",
    "version": 3
   },
   "file_extension": ".py",
   "mimetype": "text/x-python",
   "name": "python",
   "nbconvert_exporter": "python",
   "pygments_lexer": "ipython3",
   "version": "3.7.3"
  },
  "orig_nbformat": 4
 },
 "nbformat": 4,
 "nbformat_minor": 2
}
