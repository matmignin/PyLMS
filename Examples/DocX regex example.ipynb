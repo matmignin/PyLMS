{
 "cells": [
  {
   "cell_type": "code",
   "execution_count": 1,
   "metadata": {},
   "outputs": [
    {
     "ename": "IndentationError",
     "evalue": "unexpected indent (582210179.py, line 4)",
     "output_type": "error",
     "traceback": [
      "\u001b[1;36m  Input \u001b[1;32mIn [1]\u001b[1;36m\u001b[0m\n\u001b[1;33m    regex = re.compile(r'(?<Product>(?<=\\w{3})[abdefghijkl]\\d{3})(?=\\w{4})',re.IGNORECASE)\u001b[0m\n\u001b[1;37m    ^\u001b[0m\n\u001b[1;31mIndentationError\u001b[0m\u001b[1;31m:\u001b[0m unexpected indent\n"
     ]
    }
   ],
   "source": [
    "import re\n",
    "from docx import Document\n",
    "doc = Document('K919.docx')\n",
    "    regex = re.compile(r'(?<Product>(?<=\\w{3})[abdefghijkl]\\d{3})(?=\\w{4})',re.IGNORECASE)\n",
    "\n",
    "for paragraph in doc.paragraphs:\n",
    "    Found = regex.search(paragraph.text)\n",
    "    print(Found.group(1))"
   ]
  },
  {
   "cell_type": "code",
   "execution_count": null,
   "metadata": {},
   "outputs": [],
   "source": []
  }
 ],
 "metadata": {
  "interpreter": {
   "hash": "a6a3bd97303e65375c8747d6534599265d38157a627d1162e908b849055d4ea7"
  },
  "kernelspec": {
   "display_name": "Python 3.10.2 64-bit ('.venv': venv)",
   "language": "python",
   "name": "python3"
  },
  "language_info": {
   "codemirror_mode": {
    "name": "ipython",
    "version": 3
   },
   "file_extension": ".py",
   "mimetype": "text/x-python",
   "name": "python",
   "nbconvert_exporter": "python",
   "pygments_lexer": "ipython3",
   "version": "3.10.2"
  },
  "orig_nbformat": 4
 },
 "nbformat": 4,
 "nbformat_minor": 2
}
