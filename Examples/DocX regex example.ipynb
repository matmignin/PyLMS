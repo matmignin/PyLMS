{
 "cells": [
  {
   "cell_type": "code",
   "execution_count": 358,
   "metadata": {},
   "outputs": [
    {
     "name": "stdout",
     "output_type": "stream",
     "text": [
      "Capsule\n",
      "#0 clear vegetarian \n",
      "#0\n",
      "clear vegetarian\n"
     ]
    }
   ],
   "source": [
    "import re\n",
    "from docx import Document\n",
    "\n",
    "doc = Document('/Users/matbook/All Label Copy/label K888 (NEW).docx')\n",
    "\n",
    "product_pattern = re.compile(r'(?P<product>(?<=\\w{3})[abdefghijkl]\\d{3})(?=\\w{4})',re.IGNORECASE)\n",
    "\n",
    "\n",
    "pillsize_pattern = re.compile(r'(?P<pill_type>(capsule|tablet|capsulet))( size: )(?P<pill_size>(#0{2})?.*)',re.IGNORECASE)\n",
    "serving_pattern = re.compile(r'(?P<serving_size>#?\\d+) (?P<serving_type>[\\w ]+)(?:.+)',re.IGNORECASE|re.DOTALL)\n",
    "for paragraph in doc.paragraphs:\n",
    "    if pillsize_pattern.search(paragraph.text):\n",
    "        pill_match = pillsize_pattern.search(paragraph.text)\n",
    "        serving_match = serving_pattern.search(paragraph.text)\n",
    "        print(pill_match.group('pill_type'))\n",
    "        print(pill_match.group('pill_size'))\n",
    "        print(serving_match.group('serving_size'))\n",
    "        print(serving_match.group('serving_type'))\n"
   ]
  },
  {
   "cell_type": "code",
   "execution_count": 359,
   "metadata": {},
   "outputs": [
    {
     "name": "stdout",
     "output_type": "stream",
     "text": [
      "KSR Inc-Willing’s Group\n"
     ]
    }
   ],
   "source": [
    "\n",
    "\n",
    "customer_pattern = re.compile(r'^(?P<customer>[\\w][^#|\\d{6}]*)',re.IGNORECASE)\n",
    "print(customer_pattern.search(doc.paragraphs[0].text).group('customer'))\n"
   ]
  }
 ],
 "metadata": {
  "interpreter": {
   "hash": "a6a3bd97303e65375c8747d6534599265d38157a627d1162e908b849055d4ea7"
  },
  "kernelspec": {
   "display_name": "Python 3.10.2 64-bit ('.venv': venv)",
   "language": "python",
   "name": "python3"
  },
  "language_info": {
   "codemirror_mode": {
    "name": "ipython",
    "version": 3
   },
   "file_extension": ".py",
   "mimetype": "text/x-python",
   "name": "python",
   "nbconvert_exporter": "python",
   "pygments_lexer": "ipython3",
   "version": "3.8.3"
  },
  "orig_nbformat": 4
 },
 "nbformat": 4,
 "nbformat_minor": 2
}
